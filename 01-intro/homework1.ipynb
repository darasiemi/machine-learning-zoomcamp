{
 "cells": [
  {
   "cell_type": "markdown",
   "id": "c3a05f36-69f3-4d10-b2fa-fa635a916b5b",
   "metadata": {},
   "source": [
    "## Homework 1"
   ]
  },
  {
   "cell_type": "code",
   "execution_count": 1,
   "id": "c68471f4-70ee-4e38-98a1-db67f8bb4031",
   "metadata": {},
   "outputs": [],
   "source": [
    "import numpy as np\n",
    "import pandas as pd"
   ]
  },
  {
   "cell_type": "markdown",
   "id": "bf41af88-63fa-428d-b69a-ef52724a31e1",
   "metadata": {},
   "source": [
    "### Question 1"
   ]
  },
  {
   "cell_type": "code",
   "execution_count": 2,
   "id": "8b0e232c-dafc-4879-ac93-b24cda565c57",
   "metadata": {},
   "outputs": [
    {
     "data": {
      "text/plain": [
       "'2.3.2'"
      ]
     },
     "execution_count": 2,
     "metadata": {},
     "output_type": "execute_result"
    }
   ],
   "source": [
    "pd.__version__"
   ]
  },
  {
   "cell_type": "code",
   "execution_count": 3,
   "id": "7cb4aa11-87f4-4677-bb02-52429934fed2",
   "metadata": {},
   "outputs": [],
   "source": [
    "df = pd.read_csv(\"https://raw.githubusercontent.com/alexeygrigorev/datasets/master/car_fuel_efficiency.csv\")"
   ]
  },
  {
   "cell_type": "markdown",
   "id": "81549f46-f3be-4fac-918a-aafa291e7f62",
   "metadata": {},
   "source": [
    "### Question 2"
   ]
  },
  {
   "cell_type": "code",
   "execution_count": 4,
   "id": "544b07ce-280e-40ff-9c70-55999bd33e65",
   "metadata": {},
   "outputs": [
    {
     "name": "stdout",
     "output_type": "stream",
     "text": [
      "There are 9704 records in the data\n"
     ]
    }
   ],
   "source": [
    "print(f\"There are {df.shape[0]} records in the data\")"
   ]
  },
  {
   "cell_type": "markdown",
   "id": "a0e3ded1-197c-4c79-835c-4dedb08be491",
   "metadata": {},
   "source": [
    "### Question 3"
   ]
  },
  {
   "cell_type": "code",
   "execution_count": 5,
   "id": "2738d5e3-1863-4a08-b078-ab3ba00b30c6",
   "metadata": {},
   "outputs": [
    {
     "name": "stdout",
     "output_type": "stream",
     "text": [
      "There are 2 fuel types in the data\n"
     ]
    }
   ],
   "source": [
    "print(f\"There are {df.fuel_type.nunique()} fuel types in the data\")"
   ]
  },
  {
   "cell_type": "markdown",
   "id": "7c6fe6a7-6906-4740-b4c8-009508ad2e5a",
   "metadata": {},
   "source": [
    "### Question 4"
   ]
  },
  {
   "cell_type": "code",
   "execution_count": 6,
   "id": "40d28b0f-8d50-4f8b-9469-288329157512",
   "metadata": {},
   "outputs": [
    {
     "data": {
      "text/plain": [
       "engine_displacement      0\n",
       "num_cylinders          482\n",
       "horsepower             708\n",
       "vehicle_weight           0\n",
       "acceleration           930\n",
       "model_year               0\n",
       "origin                   0\n",
       "fuel_type                0\n",
       "drivetrain               0\n",
       "num_doors              502\n",
       "fuel_efficiency_mpg      0\n",
       "dtype: int64"
      ]
     },
     "execution_count": 6,
     "metadata": {},
     "output_type": "execute_result"
    }
   ],
   "source": [
    "df.isnull().sum()"
   ]
  },
  {
   "cell_type": "markdown",
   "id": "9905bbca-0a41-48b7-8405-3ae5d241c105",
   "metadata": {},
   "source": [
    "### Question 5"
   ]
  },
  {
   "cell_type": "code",
   "execution_count": 7,
   "id": "ef1a19f7-900e-4abe-991f-4f3161b45fc7",
   "metadata": {},
   "outputs": [
    {
     "name": "stdout",
     "output_type": "stream",
     "text": [
      "The maximum fuel efficiency for cars in Asia is 23.76\n"
     ]
    }
   ],
   "source": [
    "max_fuel_eff_Asia = df[df.origin == \"Asia\"][\"fuel_efficiency_mpg\"].max()\n",
    "print(f\"The maximum fuel efficiency for cars in Asia is {round(max_fuel_eff_Asia, 2)}\")"
   ]
  },
  {
   "cell_type": "markdown",
   "id": "143657ce-5555-487c-8aa9-1aab28076b05",
   "metadata": {},
   "source": [
    "### Question 6"
   ]
  },
  {
   "cell_type": "code",
   "execution_count": 8,
   "id": "6df5417c-56db-42e9-be13-60f76fa2b632",
   "metadata": {},
   "outputs": [
    {
     "data": {
      "text/plain": [
       "149.0"
      ]
     },
     "execution_count": 8,
     "metadata": {},
     "output_type": "execute_result"
    }
   ],
   "source": [
    "median_before = df.horsepower.median()\n",
    "median_before"
   ]
  },
  {
   "cell_type": "code",
   "execution_count": 9,
   "id": "b49774f3-bc25-4adc-b501-4994d31c1141",
   "metadata": {},
   "outputs": [],
   "source": [
    "mode_horsepower = df.horsepower.mode()[0]"
   ]
  },
  {
   "cell_type": "code",
   "execution_count": null,
   "id": "3d9a7b4f-86ff-4048-9324-6e60ca505a67",
   "metadata": {},
   "outputs": [],
   "source": []
  },
  {
   "cell_type": "code",
   "execution_count": 10,
   "id": "d3258407-c5ad-4ff4-8a5c-b29d3ba148ae",
   "metadata": {},
   "outputs": [],
   "source": [
    "df[\"horsepower\"] = df[\"horsepower\"].fillna(mode_horsepower)"
   ]
  },
  {
   "cell_type": "code",
   "execution_count": 11,
   "id": "7599cd76-fb0c-4886-8bf5-9ad34dee8d47",
   "metadata": {},
   "outputs": [
    {
     "data": {
      "text/plain": [
       "152.0"
      ]
     },
     "execution_count": 11,
     "metadata": {},
     "output_type": "execute_result"
    }
   ],
   "source": [
    "median_after = df.horsepower.median()\n",
    "median_after"
   ]
  },
  {
   "cell_type": "markdown",
   "id": "99b84902-c29a-4cf0-bcf0-3c8ac37c57fe",
   "metadata": {},
   "source": [
    "#### Yes, it increased"
   ]
  },
  {
   "cell_type": "markdown",
   "id": "98e9c3d8-6c91-4318-af05-fc2a2ac04d12",
   "metadata": {},
   "source": [
    "### Question 7"
   ]
  },
  {
   "cell_type": "code",
   "execution_count": 12,
   "id": "34eb5bde-fbb8-4cb8-a3ee-552bdea2ceb1",
   "metadata": {},
   "outputs": [],
   "source": [
    "df_Asia = df[df.origin == \"Asia\"][[\"vehicle_weight\", \"model_year\"]]"
   ]
  },
  {
   "cell_type": "code",
   "execution_count": 15,
   "id": "7c51af81-1301-48c0-aaa3-9e82d9b3bd60",
   "metadata": {},
   "outputs": [],
   "source": [
    "X = df_Asia.head(7)"
   ]
  },
  {
   "cell_type": "code",
   "execution_count": 16,
   "id": "86694178-7a19-40ea-9ef1-0f7924e73718",
   "metadata": {},
   "outputs": [],
   "source": [
    "XTX = X.T @ X  "
   ]
  },
  {
   "cell_type": "code",
   "execution_count": 17,
   "id": "271e8c8c-277d-433d-9d9f-84b6d5946e27",
   "metadata": {},
   "outputs": [
    {
     "data": {
      "text/html": [
       "<div>\n",
       "<style scoped>\n",
       "    .dataframe tbody tr th:only-of-type {\n",
       "        vertical-align: middle;\n",
       "    }\n",
       "\n",
       "    .dataframe tbody tr th {\n",
       "        vertical-align: top;\n",
       "    }\n",
       "\n",
       "    .dataframe thead th {\n",
       "        text-align: right;\n",
       "    }\n",
       "</style>\n",
       "<table border=\"1\" class=\"dataframe\">\n",
       "  <thead>\n",
       "    <tr style=\"text-align: right;\">\n",
       "      <th></th>\n",
       "      <th>vehicle_weight</th>\n",
       "      <th>model_year</th>\n",
       "    </tr>\n",
       "  </thead>\n",
       "  <tbody>\n",
       "    <tr>\n",
       "      <th>vehicle_weight</th>\n",
       "      <td>6.224833e+07</td>\n",
       "      <td>4.143122e+07</td>\n",
       "    </tr>\n",
       "    <tr>\n",
       "      <th>model_year</th>\n",
       "      <td>4.143122e+07</td>\n",
       "      <td>2.837334e+07</td>\n",
       "    </tr>\n",
       "  </tbody>\n",
       "</table>\n",
       "</div>"
      ],
      "text/plain": [
       "                vehicle_weight    model_year\n",
       "vehicle_weight    6.224833e+07  4.143122e+07\n",
       "model_year        4.143122e+07  2.837334e+07"
      ]
     },
     "execution_count": 17,
     "metadata": {},
     "output_type": "execute_result"
    }
   ],
   "source": [
    "XTX"
   ]
  },
  {
   "cell_type": "code",
   "execution_count": 18,
   "id": "2f3b98ca-63ef-4cf9-9d7d-dec08971930e",
   "metadata": {},
   "outputs": [],
   "source": [
    "XTX_inv = np.linalg.inv(XTX)"
   ]
  },
  {
   "cell_type": "code",
   "execution_count": 19,
   "id": "6e321994-e540-401d-a099-e2b965071343",
   "metadata": {},
   "outputs": [
    {
     "data": {
      "text/plain": [
       "array([[ 5.71497081e-07, -8.34509443e-07],\n",
       "       [-8.34509443e-07,  1.25380877e-06]])"
      ]
     },
     "execution_count": 19,
     "metadata": {},
     "output_type": "execute_result"
    }
   ],
   "source": [
    "XTX_inv "
   ]
  },
  {
   "cell_type": "code",
   "execution_count": 20,
   "id": "3fff72be-251e-42f5-b7b8-dd989d10f041",
   "metadata": {},
   "outputs": [],
   "source": [
    "y = [1100, 1300, 800, 900, 1000, 1100, 1200]"
   ]
  },
  {
   "cell_type": "code",
   "execution_count": 27,
   "id": "0d5783a4-8350-4d3f-922b-affcaf06d8fa",
   "metadata": {},
   "outputs": [
    {
     "name": "stdout",
     "output_type": "stream",
     "text": [
      " The sum of the values from multiplication is 0.52\n"
     ]
    }
   ],
   "source": [
    "print(f\" The sum of the values from multiplication is {round(sum(XTX_inv @  X.T @ y), 2)}\")"
   ]
  },
  {
   "cell_type": "code",
   "execution_count": null,
   "id": "50d349f6-02dd-4afd-b186-34194121c5c7",
   "metadata": {},
   "outputs": [],
   "source": []
  }
 ],
 "metadata": {
  "kernelspec": {
   "display_name": "Python 3 (ipykernel)",
   "language": "python",
   "name": "python3"
  },
  "language_info": {
   "codemirror_mode": {
    "name": "ipython",
    "version": 3
   },
   "file_extension": ".py",
   "mimetype": "text/x-python",
   "name": "python",
   "nbconvert_exporter": "python",
   "pygments_lexer": "ipython3",
   "version": "3.11.13"
  }
 },
 "nbformat": 4,
 "nbformat_minor": 5
}
